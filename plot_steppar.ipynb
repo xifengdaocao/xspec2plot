{
 "cells": [
  {
   "cell_type": "code",
   "execution_count": 170,
   "metadata": {},
   "outputs": [],
   "source": [
    "import os\n",
    "import numpy as np\n",
    "import matplotlib.pyplot as plt\n",
    "from matplotlib.pyplot import MultipleLocator"
   ]
  },
  {
   "cell_type": "code",
   "execution_count": 171,
   "metadata": {},
   "outputs": [],
   "source": [
    "def rewrite_file(file):\n",
    "    file_data = \"\"\n",
    "    newfile = 'temp.txt'\n",
    "    newfile_data = \"\"\n",
    "    strings = ['#***Warning:','***Warning:','#*** Warning:','Value','Variances',\n",
    "                'pegged','insensitive','Due','instead','opt','show',\n",
    "                '#Apparent','#Current','#and','#but','#Suggest',\n",
    "                'attempt:','will automatically exit','setpl',\n",
    "                '# element, likely','version:','Date/Time:',\n",
    "                \"@set_linux_1.sh\",'/home/songchengli/','!XSPEC12>@mytclscript.tcl',\n",
    "                '!XSPEC12>proc','fit','Channels','Time','File','Instrument','spectra',\n",
    "                'hypothesis','d.o.f.','tcl','channels','diskbb','Spectrum','spectrum',\n",
    "                'Data group:','bins.','comp','TBabs','constant','Group','ign',\n",
    "                'newpar','parallel','Covariance','parameters','data','sff','thaw','parameter',\n",
    "                'kerrbb','simplcutx','Model','+/-','relxillCp','Parameters']\n",
    "    with open(file, \"r\", encoding=\"utf-8\") as f:\n",
    "        for line in f:\n",
    "            copy = True\n",
    "            for string in strings:\n",
    "                if string in line:\n",
    "                    copy = False\n",
    "            if line == '#\\n':\n",
    "                copy = False\n",
    "            if copy == True:\n",
    "                if '!XSPEC12>steppar' in line:\n",
    "                    line = line.replace('!XSPEC12>steppar','!XSPEC12> steppar')\n",
    "                file_data += line\n",
    "    with open(newfile,\"w\",encoding=\"utf-8\") as f:\n",
    "        f.write(file_data)\n",
    "        f.close()   \n",
    "    with open(newfile,\"r\",encoding=\"utf-8\") as f:\n",
    "        start_index = 0\n",
    "        end_index = 0\n",
    "        for x in enumerate(f):\n",
    "            copy = False\n",
    "            index = x[0]\n",
    "            line = x[1]\n",
    "            if len(line.split()) < 2:\n",
    "                continue\n",
    "            if line.split()[0] == '!XSPEC12>' and line.split()[1] == 'steppar':\n",
    "                start_index = index\n",
    "                if len(line.split()) == 6:\n",
    "                    end_index = index + 2 + int(line.split()[-1]) + 1\n",
    "            if index >= start_index and index <= end_index and index != 0:\n",
    "                copy = True\n",
    "            elif index > end_index:\n",
    "                start_index = 0\n",
    "                end_index = 0   \n",
    "            if copy == True:\n",
    "                newfile_data += line            \n",
    "    with open('temp_steppar.txt','w',encoding=\"utf-8\") as f:\n",
    "        f.write(newfile_data)"
   ]
  },
  {
   "cell_type": "code",
   "execution_count": 172,
   "metadata": {},
   "outputs": [],
   "source": [
    "rewrite_file('simp_kerrbb+relCp_rewrite.log')"
   ]
  },
  {
   "cell_type": "code",
   "execution_count": null,
   "metadata": {},
   "outputs": [],
   "source": []
  }
 ],
 "metadata": {
  "kernelspec": {
   "display_name": "Python 3.9.13 ('base')",
   "language": "python",
   "name": "python3"
  },
  "language_info": {
   "codemirror_mode": {
    "name": "ipython",
    "version": 3
   },
   "file_extension": ".py",
   "mimetype": "text/x-python",
   "name": "python",
   "nbconvert_exporter": "python",
   "pygments_lexer": "ipython3",
   "version": "3.9.13"
  },
  "orig_nbformat": 4,
  "vscode": {
   "interpreter": {
    "hash": "bed82149a3b61f3eb6d778109e1bc80a6ffbd14ef144ec21aa09cfad7c1cc993"
   }
  }
 },
 "nbformat": 4,
 "nbformat_minor": 2
}
