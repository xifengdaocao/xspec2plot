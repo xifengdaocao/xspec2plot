{
 "cells": [
  {
   "cell_type": "code",
   "execution_count": 1,
   "id": "9a118723",
   "metadata": {},
   "outputs": [],
   "source": [
    "%reset -f"
   ]
  },
  {
   "cell_type": "code",
   "execution_count": 2,
   "id": "70363e9a",
   "metadata": {},
   "outputs": [],
   "source": [
    "import os\n",
    "import numpy as np\n",
    "import matplotlib.pyplot as plt\n",
    "from matplotlib.pyplot import MultipleLocator"
   ]
  },
  {
   "cell_type": "code",
   "execution_count": 3,
   "id": "623a33a6",
   "metadata": {},
   "outputs": [],
   "source": [
    "def updateFile_delete_str(file):\n",
    "    \n",
    "    file_data = \"\"\n",
    "    \n",
    "    str_delete = ['Apparent','Current','and','but','Suggest','Error','***','caused','Parameter','***Warning:','Due']\n",
    "    \n",
    "    with open(file, \"r\") as input:\n",
    "        lines = input.readlines()\n",
    "        for line in lines:\n",
    "            if '!XSPEC12>steppar' in line:\n",
    "                    line = line.replace('!XSPEC12>steppar','!XSPEC12> steppar')\n",
    "            if line.split() == []:\n",
    "                continue\n",
    "            if line.split()[0] not in str_delete:\n",
    "                file_data += line\n",
    "    \n",
    "    with open(file,\"w\",encoding=\"utf-8\") as output:\n",
    "        output.write(file_data)"
   ]
  },
  {
   "cell_type": "code",
   "execution_count": 4,
   "id": "8629c0e1",
   "metadata": {},
   "outputs": [],
   "source": [
    "def updateFile_delete_hashtag_and_blanck_line(file):\n",
    "    \n",
    "    file_data = \"\"\n",
    "    with open(file,\"r\", encoding=\"utf-8\") as f:\n",
    "            lines = f.readlines()\n",
    "            for line in lines:\n",
    "                if '#' in line:\n",
    "                    line = line.replace('#','')\n",
    "                if line == '\\n':\n",
    "                    line = line.strip(\"\\n\")           \n",
    "                file_data += line\n",
    "    \n",
    "    with open(file,\"w\",encoding=\"utf-8\") as f:\n",
    "        f.write(file_data)  "
   ]
  },
  {
   "cell_type": "code",
   "execution_count": 5,
   "id": "4cfd9288",
   "metadata": {},
   "outputs": [],
   "source": [
    "def get_chisq_with_pars(infile):\n",
    "    f = open(infile, 'r')\n",
    "    lines = f.readlines()\n",
    "    z = []\n",
    "    for line in lines:\n",
    "        if len(line.split()) == 6:\n",
    "            z.append([float(line.split()[3]),#x_value\n",
    "                      float(line.split()[5]),#y_value\n",
    "                      float(line.split()[0]),#z_value\n",
    "                      int(line.split()[2]),#x_index\n",
    "                      int(line.split()[4])#y_index\n",
    "                     ])            \n",
    "    return z"
   ]
  },
  {
   "cell_type": "code",
   "execution_count": 6,
   "id": "35cf2279",
   "metadata": {},
   "outputs": [],
   "source": [
    "def get_par1(infile):\n",
    "    f = open(infile, 'r')\n",
    "    lines = f.readlines()\n",
    "    x_str = []\n",
    "    for line in lines:\n",
    "        if len(line.split()) == 6:\n",
    "            x_str.append(line.split()[3])\n",
    "    x = list(map(float, x_str))\n",
    "    return x"
   ]
  },
  {
   "cell_type": "code",
   "execution_count": 7,
   "id": "f1c12808",
   "metadata": {},
   "outputs": [],
   "source": [
    "def get_par_names(infile):\n",
    "    f = open(infile, 'r')\n",
    "    lines = f.readlines()\n",
    "    names = [None]*2\n",
    "    for line in lines:\n",
    "        if line.split()[0] == 'Chi-Squared' and line.split()[1] == 'Delta':\n",
    "            names[0] = line.split()[2]\n",
    "            names[1] = line.split()[3]\n",
    "    return names"
   ]
  },
  {
   "cell_type": "code",
   "execution_count": 8,
   "id": "4da18f21",
   "metadata": {},
   "outputs": [],
   "source": [
    "def get_par2(infile):\n",
    "    f = open(infile, 'r')\n",
    "    lines = f.readlines()\n",
    "    x_str = []\n",
    "    for line in lines:\n",
    "        if len(line.split()) == 6:\n",
    "            x_str.append(line.split()[-1])\n",
    "    x = list(map(float, x_str))\n",
    "    return x"
   ]
  },
  {
   "cell_type": "code",
   "execution_count": 9,
   "id": "45d64606",
   "metadata": {},
   "outputs": [],
   "source": [
    "def get_grid(infile):\n",
    "    f = open(infile, 'r')\n",
    "    lines = f.readlines()\n",
    "    for line in lines:\n",
    "        if len(line.split()) <= 1:\n",
    "            continue\n",
    "        if line.split()[1] == 'steppar':\n",
    "            # head line example: XSPEC12 steppar 8 0.001 0.18 20 18 0.001 0.15 20\n",
    "            x_low, x_high, num_x_grid = float(line.split()[3]), float(line.split()[4]), int(line.split()[5])\n",
    "            y_low, y_high, num_y_grid = float(line.split()[7]), float(line.split()[8]), int(line.split()[9])\n",
    "    x_grid = np.linspace(x_low, x_high, num = num_x_grid, dtype = None)\n",
    "    y_grid = np.linspace(y_low, y_high, num = num_y_grid, dtype = None)\n",
    "    return x_grid, y_grid"
   ]
  },
  {
   "cell_type": "code",
   "execution_count": 10,
   "id": "cbefc663",
   "metadata": {},
   "outputs": [],
   "source": [
    "def plot_density_contour(infile,mytitle='Steppar Contour Plot',p=0.5,N=20):\n",
    "    \n",
    "    updateFile_delete_hashtag_and_blanck_line(infile)\n",
    "    updateFile_delete_str(infile)\n",
    "\n",
    "    names = get_par_names(infile)\n",
    "\n",
    "    x_grid, y_grid = get_grid(infile)\n",
    "\n",
    "    Z = np.ndarray(shape = (len(y_grid),len(x_grid)), dtype = float)\n",
    "    # 这里y_grid要在前面, 不然不对.\n",
    "\n",
    "    z_value = get_chisq_with_pars(infile)\n",
    "\n",
    "    z_max = z_value[0][2]\n",
    "    z_min = z_value[0][2]\n",
    "\n",
    "    for z in z_value:\n",
    "        if z[2] > z_max:\n",
    "            z_max = z[2]\n",
    "        if z[2] < z_min:\n",
    "            z_min = z[2]\n",
    "\n",
    "    for i in range(len(x_grid)):\n",
    "        for j in range(len(y_grid)):\n",
    "            for k in range(len(z_value)):\n",
    "                if z_value[k][3] == i and z_value[k][4] == j:\n",
    "                    Z[j][i] = z_value[k][2]\n",
    "\n",
    "    X, Y = np.meshgrid(np.array(x_grid), np.array(y_grid))\n",
    "\n",
    "    fig,ax = plt.subplots(1,1)\n",
    "    conpl = ax.contourf(X, Y, Z,levels = np.linspace(z_min,p*z_max+(1-p)*z_min,N), extend = 'both')\n",
    "    fig.colorbar(conpl)\n",
    "    ax.set_title(mytitle)\n",
    "    ax.set_xlabel(names[0])\n",
    "    ax.set_ylabel(names[1])\n",
    "    plt.savefig(infile + '.pdf')\n",
    "    plt.show()\n",
    "    \n",
    "    return conpl"
   ]
  },
  {
   "cell_type": "code",
   "execution_count": 11,
   "id": "e25da434",
   "metadata": {},
   "outputs": [
    {
     "data": {
      "image/png": "[encoded data removed]",
      "text/plain": [
       "<Figure size 640x480 with 2 Axes>"
      ]
     },
     "metadata": {},
     "output_type": "display_data"
    },
    {
     "data": {
      "text/plain": [
       "<matplotlib.contour.QuadContourSet at 0x7fbb09ef4640>"
      ]
     },
     "execution_count": 11,
     "metadata": {},
     "output_type": "execute_result"
    }
   ],
   "source": [
    "# # plot_density_contour('diskbb_a_i.txt',p=0.15,N=10)\n",
    "# # plot_density_contour('kerrbb_a_i.txt',p=0.008,N=10)\n",
    "# plot_density_contour('kerr_free_a_i.txt',p=0.2,N=20)\n",
    "plot_density_contour('simp-kerr-relCp_a-i_con.txt',p=0.05)"
   ]
  }
 ],
 "metadata": {
  "kernelspec": {
   "display_name": "Python 3.9.13 ('base')",
   "language": "python",
   "name": "python3"
  },
  "language_info": {
   "codemirror_mode": {
    "name": "ipython",
    "version": 3
   },
   "file_extension": ".py",
   "mimetype": "text/x-python",
   "name": "python",
   "nbconvert_exporter": "python",
   "pygments_lexer": "ipython3",
   "version": "3.9.13"
  },
  "vscode": {
   "interpreter": {
    "hash": "bed82149a3b61f3eb6d778109e1bc80a6ffbd14ef144ec21aa09cfad7c1cc993"
   }
  }
 },
 "nbformat": 4,
 "nbformat_minor": 5
}
