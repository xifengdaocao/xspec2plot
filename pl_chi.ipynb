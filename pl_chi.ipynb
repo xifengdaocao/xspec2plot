{
 "cells": [
  {
   "cell_type": "code",
   "execution_count": null,
   "metadata": {},
   "outputs": [
    {
     "ename": "",
     "evalue": "",
     "output_type": "error",
     "traceback": [
      "\u001b[1;31mThe kernel died. Error: C:\\Users\\orangelee97\\AppData\\Local\\Programs\\Python\\Python39\\python.exe: No module named ipykernel_launcher... View Jupyter <a href='command:jupyter.viewOutput'>log</a> for further details."
     ]
    }
   ],
   "source": [
    "%reset -f\n",
    "import os\n",
    "import numpy as np\n",
    "import matplotlib\n",
    "import matplotlib.pyplot as plt\n",
    "from matplotlib.axes import Axes\n",
    "from matplotlib import gridspec\n",
    "from matplotlib.ticker import (MultipleLocator, FormatStrFormatter,AutoMinorLocator)\n",
    "from matplotlib.ticker import NullFormatter\n",
    "from IPython.display import set_matplotlib_formats\n",
    "#User-defined package\n",
    "import general as g\n",
    "\n",
    "%matplotlib inline\n",
    "#有了%matplotlib inline 就可以省掉plt.show()了\n",
    "set_matplotlib_formats('svg')\n",
    "#svg: Scalable Vector Graphics"
   ]
  },
  {
   "cell_type": "code",
   "execution_count": null,
   "metadata": {},
   "outputs": [
    {
     "ename": "",
     "evalue": "",
     "output_type": "error",
     "traceback": [
      "\u001b[1;31mThe kernel died. Error: C:\\Users\\orangelee97\\AppData\\Local\\Programs\\Python\\Python39\\python.exe: No module named ipykernel_launcher... View Jupyter <a href='command:jupyter.viewOutput'>log</a> for further details."
     ]
    }
   ],
   "source": [
    "def pl_chi(infile,mycolor='red',legend='chi'):\n",
    "        g.rewrite_ipl(infile)\n",
    "        fig = plt.figure(figsize=(10,2.5))\n",
    "\n",
    "        datafile = f\"temp-0.txt\"\n",
    "        data = np.genfromtxt(datafile, unpack=True)\n",
    "\n",
    "        ax = plt.subplot(1,1,1)\n",
    "        ax.set_xscale('log')\n",
    "        ax.errorbar(x=data[0],y=data[2],xerr=data[1],marker='o',ms=0.0,color=mycolor,ds='steps-mid',label=legend)\n",
    "        ax.legend()\n",
    "        \n",
    "        #delete temp files\n",
    "        temp_file = g.rewrite_ipl(infile)\n",
    "        for n in range(temp_file):\n",
    "                os.remove(f\"temp-{n}.txt\")\n",
    "                if os.path.exists(f\"temp-{n}.txt-e\") is True:\n",
    "                        os.remove(f\"temp-{n}.txt-e\")\n",
    "        return fig, ax\n",
    "\n",
    "infile='relionCp-nk_half-br_pl-chi.txt'\n",
    "fig,ax = pl_chi(infile,'green')"
   ]
  },
  {
   "cell_type": "code",
   "execution_count": null,
   "metadata": {},
   "outputs": [
    {
     "ename": "",
     "evalue": "",
     "output_type": "error",
     "traceback": [
      "\u001b[1;31mThe kernel died. Error: C:\\Users\\orangelee97\\AppData\\Local\\Programs\\Python\\Python39\\python.exe: No module named ipykernel_launcher... View Jupyter <a href='command:jupyter.viewOutput'>log</a> for further details."
     ]
    }
   ],
   "source": [
    "def do_pl_chi(infile,ax,mycolor='red',legend='chi'):\n",
    "        g.rewrite_ipl(infile)\n",
    "\n",
    "        datafile = f\"temp-0.txt\"\n",
    "        data = np.genfromtxt(datafile, unpack=True)\n",
    "\n",
    "        ax.set_xscale('log')\n",
    "        ax.errorbar(x=data[0],y=data[2],xerr=data[1],marker='o',ms=0.0,color=mycolor,ds='steps-mid',label=legend)\n",
    "        ax.legend()\n",
    "        \n",
    "        \n",
    "        #delete temp files\n",
    "        temp_file = g.rewrite_ipl(infile)\n",
    "        for n in range(temp_file):\n",
    "                os.remove(f\"temp-{n}.txt\")\n",
    "                if os.path.exists(f\"temp-{n}.txt-e\") is True:\n",
    "                        os.remove(f\"temp-{n}.txt-e\")"
   ]
  },
  {
   "cell_type": "code",
   "execution_count": null,
   "metadata": {},
   "outputs": [
    {
     "ename": "",
     "evalue": "",
     "output_type": "error",
     "traceback": [
      "\u001b[1;31mThe kernel died. Error: C:\\Users\\orangelee97\\AppData\\Local\\Programs\\Python\\Python39\\python.exe: No module named ipykernel_launcher... View Jupyter <a href='command:jupyter.viewOutput'>log</a> for further details."
     ]
    }
   ],
   "source": [
    "def pl_chi_2files(infiles:list):\n",
    "        colors=['red','green']\n",
    "        fig = plt.figure(figsize=(10,5))\n",
    "        ax = plt.subplot(1,1,1)\n",
    "        \n",
    "        do_pl_chi(infiles[0],ax,mycolor=colors[0],legend='q2=3')\n",
    "        do_pl_chi(infiles[1],ax,mycolor=colors[1],legend='q2 is free')\n",
    "        return fig, ax\n",
    "\n",
    "fig,ax = pl_chi_2files(['relionCp-nk_half-br_pl-chi.txt','relionCp-nk_pl-chi.txt'])\n",
    "ax.axvline(x=26.0)"
   ]
  }
 ],
 "metadata": {
  "kernelspec": {
   "display_name": "Python 3",
   "language": "python",
   "name": "python3"
  },
  "orig_nbformat": 4,
  "vscode": {
   "interpreter": {
    "hash": "bed82149a3b61f3eb6d778109e1bc80a6ffbd14ef144ec21aa09cfad7c1cc993"
   }
  }
 },
 "nbformat": 4,
 "nbformat_minor": 2
}
